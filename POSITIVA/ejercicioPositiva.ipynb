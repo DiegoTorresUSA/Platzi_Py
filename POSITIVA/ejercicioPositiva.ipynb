{
 "cells": [
  {
   "cell_type": "code",
   "execution_count": 55,
   "id": "bde09c4c",
   "metadata": {},
   "outputs": [],
   "source": [
    "import pandas as pd"
   ]
  },
  {
   "cell_type": "code",
   "execution_count": 56,
   "id": "228613be",
   "metadata": {},
   "outputs": [],
   "source": [
    "df_positiva = pd.read_csv('Traza_ARL_202205.csv', sep=';', engine='python', on_bad_lines = 'skip')"
   ]
  },
  {
   "cell_type": "code",
   "execution_count": 58,
   "id": "6635ef3f",
   "metadata": {},
   "outputs": [
    {
     "data": {
      "text/html": [
       "<div>\n",
       "<style scoped>\n",
       "    .dataframe tbody tr th:only-of-type {\n",
       "        vertical-align: middle;\n",
       "    }\n",
       "\n",
       "    .dataframe tbody tr th {\n",
       "        vertical-align: top;\n",
       "    }\n",
       "\n",
       "    .dataframe thead th {\n",
       "        text-align: right;\n",
       "    }\n",
       "</style>\n",
       "<table border=\"1\" class=\"dataframe\">\n",
       "  <thead>\n",
       "    <tr style=\"text-align: right;\">\n",
       "      <th></th>\n",
       "      <th>ID</th>\n",
       "      <th>FechaOperacion</th>\n",
       "      <th>ServicioOrigen</th>\n",
       "      <th>ServicioDestino</th>\n",
       "      <th>Identificador</th>\n",
       "      <th>DatosOperacion</th>\n",
       "      <th>DatosRespuesta</th>\n",
       "      <th>MetaDatos</th>\n",
       "    </tr>\n",
       "  </thead>\n",
       "  <tbody>\n",
       "    <tr>\n",
       "      <th>0</th>\n",
       "      <td>522088338</td>\n",
       "      <td>2022-05-02 12:00:12.590</td>\n",
       "      <td>1001</td>\n",
       "      <td>1002</td>\n",
       "      <td>D9C3DA24-2CD3-4903-AB02-6F759B23E999</td>\n",
       "      <td>{   \"IdArl\": 42,   \"UsuarioCreacion\": \"8909037...</td>\n",
       "      <td>{   \"resultado\": 0,   \"mensaje\": \"Column name ...</td>\n",
       "      <td>NaN</td>\n",
       "    </tr>\n",
       "    <tr>\n",
       "      <th>1</th>\n",
       "      <td>522088340</td>\n",
       "      <td>2022-05-02 12:00:12.670</td>\n",
       "      <td>1001</td>\n",
       "      <td>1002</td>\n",
       "      <td>5045F5F0-7C7C-407A-8D39-16C68367FC04</td>\n",
       "      <td>{   \"IdArl\": 42,   \"UsuarioCreacion\": \"8909037...</td>\n",
       "      <td>{   \"resultado\": 0,   \"mensaje\": \"Column name ...</td>\n",
       "      <td>NaN</td>\n",
       "    </tr>\n",
       "  </tbody>\n",
       "</table>\n",
       "</div>"
      ],
      "text/plain": [
       "          ID           FechaOperacion  ServicioOrigen  ServicioDestino  \\\n",
       "0  522088338  2022-05-02 12:00:12.590            1001             1002   \n",
       "1  522088340  2022-05-02 12:00:12.670            1001             1002   \n",
       "\n",
       "                          Identificador  \\\n",
       "0  D9C3DA24-2CD3-4903-AB02-6F759B23E999   \n",
       "1  5045F5F0-7C7C-407A-8D39-16C68367FC04   \n",
       "\n",
       "                                      DatosOperacion  \\\n",
       "0  {   \"IdArl\": 42,   \"UsuarioCreacion\": \"8909037...   \n",
       "1  {   \"IdArl\": 42,   \"UsuarioCreacion\": \"8909037...   \n",
       "\n",
       "                                      DatosRespuesta  MetaDatos  \n",
       "0  {   \"resultado\": 0,   \"mensaje\": \"Column name ...        NaN  \n",
       "1  {   \"resultado\": 0,   \"mensaje\": \"Column name ...        NaN  "
      ]
     },
     "execution_count": 58,
     "metadata": {},
     "output_type": "execute_result"
    }
   ],
   "source": [
    "df_positiva.head(2)"
   ]
  },
  {
   "cell_type": "code",
   "execution_count": 75,
   "id": "7efdf5be",
   "metadata": {},
   "outputs": [
    {
     "data": {
      "text/plain": [
       "False    2560859\n",
       "Name: DatosOperacion, dtype: int64"
      ]
     },
     "execution_count": 75,
     "metadata": {},
     "output_type": "execute_result"
    }
   ],
   "source": [
    "df_positiva['FechaOperacion'].str.contains('IdArl\": 49,').value_counts()"
   ]
  },
  {
   "cell_type": "code",
   "execution_count": 76,
   "id": "5a0d084f",
   "metadata": {},
   "outputs": [
    {
     "ename": "TypeError",
     "evalue": "'DataFrame' object is not callable",
     "output_type": "error",
     "traceback": [
      "\u001b[1;31m---------------------------------------------------------------------------\u001b[0m",
      "\u001b[1;31mTypeError\u001b[0m                                 Traceback (most recent call last)",
      "Input \u001b[1;32mIn [76]\u001b[0m, in \u001b[0;36m<cell line: 1>\u001b[1;34m()\u001b[0m\n\u001b[1;32m----> 1\u001b[0m \u001b[43mdf_positiva\u001b[49m\u001b[43m(\u001b[49m\u001b[43m[\u001b[49m\u001b[38;5;124;43m'\u001b[39;49m\u001b[38;5;124;43mFechaOperacion\u001b[39;49m\u001b[38;5;124;43m'\u001b[39;49m\u001b[43m]\u001b[49m\u001b[43m \u001b[49m\u001b[38;5;241;43m==\u001b[39;49m\u001b[43m \u001b[49m\u001b[38;5;124;43m'\u001b[39;49m\u001b[38;5;124;43m2022-05-02\u001b[39;49m\u001b[38;5;124;43m'\u001b[39;49m\u001b[43m)\u001b[49m\u001b[38;5;241m.\u001b[39mvalue_counts()\n",
      "\u001b[1;31mTypeError\u001b[0m: 'DataFrame' object is not callable"
     ]
    }
   ],
   "source": [
    "df_positiva(['FechaOperacion'] == '2022-05-02').value_counts()"
   ]
  },
  {
   "cell_type": "code",
   "execution_count": 81,
   "id": "af8d6310",
   "metadata": {},
   "outputs": [
    {
     "data": {
      "text/html": [
       "<div>\n",
       "<style scoped>\n",
       "    .dataframe tbody tr th:only-of-type {\n",
       "        vertical-align: middle;\n",
       "    }\n",
       "\n",
       "    .dataframe tbody tr th {\n",
       "        vertical-align: top;\n",
       "    }\n",
       "\n",
       "    .dataframe thead th {\n",
       "        text-align: right;\n",
       "    }\n",
       "</style>\n",
       "<table border=\"1\" class=\"dataframe\">\n",
       "  <thead>\n",
       "    <tr style=\"text-align: right;\">\n",
       "      <th></th>\n",
       "      <th>ID</th>\n",
       "      <th>FechaOperacion</th>\n",
       "      <th>ServicioOrigen</th>\n",
       "      <th>ServicioDestino</th>\n",
       "      <th>Identificador</th>\n",
       "      <th>DatosOperacion</th>\n",
       "      <th>DatosRespuesta</th>\n",
       "      <th>MetaDatos</th>\n",
       "    </tr>\n",
       "  </thead>\n",
       "  <tbody>\n",
       "  </tbody>\n",
       "</table>\n",
       "</div>"
      ],
      "text/plain": [
       "Empty DataFrame\n",
       "Columns: [ID, FechaOperacion, ServicioOrigen, ServicioDestino, Identificador, DatosOperacion, DatosRespuesta, MetaDatos]\n",
       "Index: []"
      ]
     },
     "execution_count": 81,
     "metadata": {},
     "output_type": "execute_result"
    }
   ],
   "source": [
    "df_positiva[df_positiva['FechaOperacion'] >= '2022-06-01']"
   ]
  },
  {
   "cell_type": "code",
   "execution_count": null,
   "id": "62df7354",
   "metadata": {},
   "outputs": [],
   "source": []
  },
  {
   "cell_type": "code",
   "execution_count": 51,
   "id": "dbff1a59",
   "metadata": {},
   "outputs": [
    {
     "data": {
      "text/html": [
       "<div>\n",
       "<style scoped>\n",
       "    .dataframe tbody tr th:only-of-type {\n",
       "        vertical-align: middle;\n",
       "    }\n",
       "\n",
       "    .dataframe tbody tr th {\n",
       "        vertical-align: top;\n",
       "    }\n",
       "\n",
       "    .dataframe thead th {\n",
       "        text-align: right;\n",
       "    }\n",
       "</style>\n",
       "<table border=\"1\" class=\"dataframe\">\n",
       "  <thead>\n",
       "    <tr style=\"text-align: right;\">\n",
       "      <th></th>\n",
       "      <th>ID</th>\n",
       "      <th>FechaOperacion</th>\n",
       "      <th>ServicioOrigen</th>\n",
       "      <th>ServicioDestino</th>\n",
       "      <th>Identificador</th>\n",
       "      <th>DatosOperacion</th>\n",
       "      <th>DatosRespuesta</th>\n",
       "      <th>MetaDatos</th>\n",
       "    </tr>\n",
       "  </thead>\n",
       "  <tbody>\n",
       "    <tr>\n",
       "      <th>492</th>\n",
       "      <td>523283187</td>\n",
       "      <td>2022-05-04 09:10:49.450</td>\n",
       "      <td>1001</td>\n",
       "      <td>1002</td>\n",
       "      <td>1F05B4CC-DBB3-467A-8A36-00D190582096</td>\n",
       "      <td>{   \"IdArl\": 42,   \"UsuarioCreacion\": \"8909037...</td>\n",
       "      <td>{   \"resultado\": 0,   \"mensaje\": \"Razón social...</td>\n",
       "      <td>NaN</td>\n",
       "    </tr>\n",
       "    <tr>\n",
       "      <th>552</th>\n",
       "      <td>523283565</td>\n",
       "      <td>2022-05-04 09:11:06.637</td>\n",
       "      <td>1001</td>\n",
       "      <td>1002</td>\n",
       "      <td>BA8C4737-3C37-46F9-9986-537DA347160F</td>\n",
       "      <td>{   \"IdArl\": 42,   \"UsuarioCreacion\": \"8909037...</td>\n",
       "      <td>{   \"resultado\": 0,   \"mensaje\": \"Responsable ...</td>\n",
       "      <td>NaN</td>\n",
       "    </tr>\n",
       "    <tr>\n",
       "      <th>677</th>\n",
       "      <td>523284278</td>\n",
       "      <td>2022-05-04 09:11:35.923</td>\n",
       "      <td>1001</td>\n",
       "      <td>1002</td>\n",
       "      <td>F9FA3350-E17C-4CF6-9017-D2B47F633409</td>\n",
       "      <td>{   \"IdArl\": 42,   \"UsuarioCreacion\": \"8909037...</td>\n",
       "      <td>{   \"resultado\": 0,   \"mensaje\": \"APORTANTE EX...</td>\n",
       "      <td>NaN</td>\n",
       "    </tr>\n",
       "    <tr>\n",
       "      <th>934</th>\n",
       "      <td>523334405</td>\n",
       "      <td>2022-05-04 10:38:38.717</td>\n",
       "      <td>1001</td>\n",
       "      <td>1002</td>\n",
       "      <td>4822C423-A659-402C-86D4-B5198B941D6B</td>\n",
       "      <td>{   \"IdArl\": 42,   \"UsuarioCreacion\": \"8909037...</td>\n",
       "      <td>{   \"resultado\": 0,   \"mensaje\": \"APORTANTE EX...</td>\n",
       "      <td>NaN</td>\n",
       "    </tr>\n",
       "    <tr>\n",
       "      <th>1660</th>\n",
       "      <td>523380800</td>\n",
       "      <td>2022-05-04 12:01:29.427</td>\n",
       "      <td>1001</td>\n",
       "      <td>1002</td>\n",
       "      <td>CFA02357-AAD9-4BDE-AF24-A16B61A73C29</td>\n",
       "      <td>{   \"IdArl\": 42,   \"UsuarioCreacion\": \"8909037...</td>\n",
       "      <td>{   \"resultado\": 0,   \"mensaje\": \"El empleador...</td>\n",
       "      <td>NaN</td>\n",
       "    </tr>\n",
       "  </tbody>\n",
       "</table>\n",
       "</div>"
      ],
      "text/plain": [
       "             ID           FechaOperacion  ServicioOrigen  ServicioDestino  \\\n",
       "492   523283187  2022-05-04 09:10:49.450            1001             1002   \n",
       "552   523283565  2022-05-04 09:11:06.637            1001             1002   \n",
       "677   523284278  2022-05-04 09:11:35.923            1001             1002   \n",
       "934   523334405  2022-05-04 10:38:38.717            1001             1002   \n",
       "1660  523380800  2022-05-04 12:01:29.427            1001             1002   \n",
       "\n",
       "                             Identificador  \\\n",
       "492   1F05B4CC-DBB3-467A-8A36-00D190582096   \n",
       "552   BA8C4737-3C37-46F9-9986-537DA347160F   \n",
       "677   F9FA3350-E17C-4CF6-9017-D2B47F633409   \n",
       "934   4822C423-A659-402C-86D4-B5198B941D6B   \n",
       "1660  CFA02357-AAD9-4BDE-AF24-A16B61A73C29   \n",
       "\n",
       "                                         DatosOperacion  \\\n",
       "492   {   \"IdArl\": 42,   \"UsuarioCreacion\": \"8909037...   \n",
       "552   {   \"IdArl\": 42,   \"UsuarioCreacion\": \"8909037...   \n",
       "677   {   \"IdArl\": 42,   \"UsuarioCreacion\": \"8909037...   \n",
       "934   {   \"IdArl\": 42,   \"UsuarioCreacion\": \"8909037...   \n",
       "1660  {   \"IdArl\": 42,   \"UsuarioCreacion\": \"8909037...   \n",
       "\n",
       "                                         DatosRespuesta  MetaDatos  \n",
       "492   {   \"resultado\": 0,   \"mensaje\": \"Razón social...        NaN  \n",
       "552   {   \"resultado\": 0,   \"mensaje\": \"Responsable ...        NaN  \n",
       "677   {   \"resultado\": 0,   \"mensaje\": \"APORTANTE EX...        NaN  \n",
       "934   {   \"resultado\": 0,   \"mensaje\": \"APORTANTE EX...        NaN  \n",
       "1660  {   \"resultado\": 0,   \"mensaje\": \"El empleador...        NaN  "
      ]
     },
     "execution_count": 51,
     "metadata": {},
     "output_type": "execute_result"
    }
   ],
   "source": [
    "df_positiva.head(5)"
   ]
  },
  {
   "cell_type": "code",
   "execution_count": null,
   "id": "705bfbfe",
   "metadata": {},
   "outputs": [],
   "source": []
  }
 ],
 "metadata": {
  "kernelspec": {
   "display_name": "Python 3 (ipykernel)",
   "language": "python",
   "name": "python3"
  },
  "language_info": {
   "codemirror_mode": {
    "name": "ipython",
    "version": 3
   },
   "file_extension": ".py",
   "mimetype": "text/x-python",
   "name": "python",
   "nbconvert_exporter": "python",
   "pygments_lexer": "ipython3",
   "version": "3.10.4"
  }
 },
 "nbformat": 4,
 "nbformat_minor": 5
}
