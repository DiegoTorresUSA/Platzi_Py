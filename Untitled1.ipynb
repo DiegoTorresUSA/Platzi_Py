{
 "cells": [
  {
   "cell_type": "code",
   "execution_count": 1,
   "id": "6a39d460",
   "metadata": {},
   "outputs": [],
   "source": [
    "import pandas as pd"
   ]
  },
  {
   "cell_type": "code",
   "execution_count": 19,
   "id": "fb049309",
   "metadata": {},
   "outputs": [
    {
     "data": {
      "text/html": [
       "<div>\n",
       "<style scoped>\n",
       "    .dataframe tbody tr th:only-of-type {\n",
       "        vertical-align: middle;\n",
       "    }\n",
       "\n",
       "    .dataframe tbody tr th {\n",
       "        vertical-align: top;\n",
       "    }\n",
       "\n",
       "    .dataframe thead th {\n",
       "        text-align: right;\n",
       "    }\n",
       "</style>\n",
       "<table border=\"1\" class=\"dataframe\">\n",
       "  <thead>\n",
       "    <tr style=\"text-align: right;\">\n",
       "      <th></th>\n",
       "      <th>ID</th>\n",
       "      <th>NMCONSECUTIVO</th>\n",
       "      <th>DNI</th>\n",
       "      <th>DSMENSAJE_ORIGINAL</th>\n",
       "      <th>DSMENSAJE_ENVIO_SAT</th>\n",
       "      <th>DSMENSAJE_RTA_SAT</th>\n",
       "      <th>FEMSJ_ORIGINAL</th>\n",
       "      <th>FEMSJ_ENVIO_SAT</th>\n",
       "      <th>FEMSJ_RESPUESTA_SAT</th>\n",
       "      <th>NMINTENTOS</th>\n",
       "      <th>...</th>\n",
       "      <th>SNNUEVA</th>\n",
       "      <th>DSESTADO</th>\n",
       "      <th>CDFUENTE</th>\n",
       "      <th>DSMOTIVO_RECHAZO</th>\n",
       "      <th>DNI_INGRESO</th>\n",
       "      <th>FEINGRESA</th>\n",
       "      <th>SNREPROCESADO</th>\n",
       "      <th>NMREPROCESO</th>\n",
       "      <th>DSOBSERVACION</th>\n",
       "      <th>DNI_REPROCESA</th>\n",
       "    </tr>\n",
       "  </thead>\n",
       "  <tbody>\n",
       "    <tr>\n",
       "      <th>0</th>\n",
       "      <td>1</td>\n",
       "      <td>344135</td>\n",
       "      <td>C1098630105</td>\n",
       "      <td>{identificadorMensaje\":\"EA\",\"datosAdicionales\"...</td>\n",
       "      <td>{CodigoARL\":\"14-11\",\"TipoDocumentoEmpleador\":\"...</td>\n",
       "      <td>{codigo\":\"GN35d\",\"resultado\":0,\"mensaje\":\"Fech...</td>\n",
       "      <td>00:16.0</td>\n",
       "      <td>00:16.0</td>\n",
       "      <td>01:40.0</td>\n",
       "      <td>1</td>\n",
       "      <td>...</td>\n",
       "      <td>S</td>\n",
       "      <td>ENVIO_FUTURO</td>\n",
       "      <td>4</td>\n",
       "      <td>GN35d</td>\n",
       "      <td>N800042471</td>\n",
       "      <td>36:40.0</td>\n",
       "      <td>S</td>\n",
       "      <td>10345452.0</td>\n",
       "      <td>Envio automatico por reproceso de mensajes no ...</td>\n",
       "      <td>INTEGRADORSAT</td>\n",
       "    </tr>\n",
       "    <tr>\n",
       "      <th>1</th>\n",
       "      <td>2</td>\n",
       "      <td>344128</td>\n",
       "      <td>N901415472</td>\n",
       "      <td>{identificadorMensaje\":\"EA\",\"datosAdicionales\"...</td>\n",
       "      <td>{CodigoARL\":\"14-11\",\"TipoDocumentoEmpleador\":\"...</td>\n",
       "      <td>{codigo\":\"GN06\",\"resultado\":0,\"mensaje\":\"Razón...</td>\n",
       "      <td>00:12.0</td>\n",
       "      <td>00:12.0</td>\n",
       "      <td>01:13.0</td>\n",
       "      <td>1</td>\n",
       "      <td>...</td>\n",
       "      <td>S</td>\n",
       "      <td>RECHAZADO_SAT</td>\n",
       "      <td>9</td>\n",
       "      <td>GN06</td>\n",
       "      <td>C43743117</td>\n",
       "      <td>47:37.0</td>\n",
       "      <td>S</td>\n",
       "      <td>10345300.0</td>\n",
       "      <td>Envio automatico por reproceso de mensajes no ...</td>\n",
       "      <td>INTEGRADORSAT</td>\n",
       "    </tr>\n",
       "  </tbody>\n",
       "</table>\n",
       "<p>2 rows × 22 columns</p>\n",
       "</div>"
      ],
      "text/plain": [
       "  ID NMCONSECUTIVO          DNI  \\\n",
       "0  1        344135  C1098630105   \n",
       "1  2        344128   N901415472   \n",
       "\n",
       "                                  DSMENSAJE_ORIGINAL  \\\n",
       "0  {identificadorMensaje\":\"EA\",\"datosAdicionales\"...   \n",
       "1  {identificadorMensaje\":\"EA\",\"datosAdicionales\"...   \n",
       "\n",
       "                                 DSMENSAJE_ENVIO_SAT  \\\n",
       "0  {CodigoARL\":\"14-11\",\"TipoDocumentoEmpleador\":\"...   \n",
       "1  {CodigoARL\":\"14-11\",\"TipoDocumentoEmpleador\":\"...   \n",
       "\n",
       "                                   DSMENSAJE_RTA_SAT FEMSJ_ORIGINAL  \\\n",
       "0  {codigo\":\"GN35d\",\"resultado\":0,\"mensaje\":\"Fech...        00:16.0   \n",
       "1  {codigo\":\"GN06\",\"resultado\":0,\"mensaje\":\"Razón...        00:12.0   \n",
       "\n",
       "  FEMSJ_ENVIO_SAT FEMSJ_RESPUESTA_SAT NMINTENTOS  ... SNNUEVA       DSESTADO  \\\n",
       "0         00:16.0             01:40.0          1  ...       S   ENVIO_FUTURO   \n",
       "1         00:12.0             01:13.0          1  ...       S  RECHAZADO_SAT   \n",
       "\n",
       "  CDFUENTE DSMOTIVO_RECHAZO DNI_INGRESO FEINGRESA SNREPROCESADO NMREPROCESO  \\\n",
       "0        4            GN35d  N800042471   36:40.0             S  10345452.0   \n",
       "1        9             GN06   C43743117   47:37.0             S  10345300.0   \n",
       "\n",
       "                                       DSOBSERVACION  DNI_REPROCESA  \n",
       "0  Envio automatico por reproceso de mensajes no ...  INTEGRADORSAT  \n",
       "1  Envio automatico por reproceso de mensajes no ...  INTEGRADORSAT  \n",
       "\n",
       "[2 rows x 22 columns]"
      ]
     },
     "execution_count": 19,
     "metadata": {},
     "output_type": "execute_result"
    }
   ],
   "source": [
    "df_sura = pd.read_csv('csvPython/SURA.csv',sep=\";\")\n",
    "df_sura.head(2)"
   ]
  },
  {
   "cell_type": "code",
   "execution_count": null,
   "id": "d5306227",
   "metadata": {},
   "outputs": [],
   "source": []
  },
  {
   "cell_type": "code",
   "execution_count": 22,
   "id": "8e9c6173",
   "metadata": {},
   "outputs": [
    {
     "data": {
      "text/plain": [
       "0      {identificadorMensaje\":\"EA\",\"datosAdicionales\"...\n",
       "1      {identificadorMensaje\":\"EA\",\"datosAdicionales\"...\n",
       "2      {identificadorMensaje\":\"EA\",\"datosAdicionales\"...\n",
       "3      {identificadorMensaje\":\"EA\",\"datosAdicionales\"...\n",
       "4      {identificadorMensaje\":\"EA\",\"datosAdicionales\"...\n",
       "                             ...                        \n",
       "281    {identificadorMensaje\":\"EA\",\"datosAdicionales\"...\n",
       "282    {identificadorMensaje\":\"EA\",\"datosAdicionales\"...\n",
       "283    {identificadorMensaje\":\"EA\",\"datosAdicionales\"...\n",
       "284    {identificadorMensaje\":\"EA\",\"datosAdicionales\"...\n",
       "285    {identificadorMensaje\":\"EA\",\"datosAdicionales\"...\n",
       "Name: DSMENSAJE_ORIGINAL, Length: 286, dtype: object"
      ]
     },
     "execution_count": 22,
     "metadata": {},
     "output_type": "execute_result"
    }
   ],
   "source": [
    "df_sura['DSMENSAJE_ORIGINAL']"
   ]
  },
  {
   "cell_type": "code",
   "execution_count": null,
   "id": "fbfb1801",
   "metadata": {},
   "outputs": [],
   "source": []
  },
  {
   "cell_type": "code",
   "execution_count": null,
   "id": "67f7a278",
   "metadata": {},
   "outputs": [],
   "source": []
  },
  {
   "cell_type": "code",
   "execution_count": null,
   "id": "beb3c56b",
   "metadata": {},
   "outputs": [],
   "source": []
  },
  {
   "cell_type": "code",
   "execution_count": null,
   "id": "d3cb580a",
   "metadata": {},
   "outputs": [],
   "source": []
  },
  {
   "cell_type": "code",
   "execution_count": null,
   "id": "e2f7e583",
   "metadata": {},
   "outputs": [],
   "source": []
  },
  {
   "cell_type": "code",
   "execution_count": null,
   "id": "c0138e90",
   "metadata": {},
   "outputs": [],
   "source": []
  },
  {
   "cell_type": "code",
   "execution_count": null,
   "id": "9886fbd4",
   "metadata": {},
   "outputs": [],
   "source": []
  },
  {
   "cell_type": "code",
   "execution_count": null,
   "id": "052b0364",
   "metadata": {},
   "outputs": [],
   "source": []
  },
  {
   "cell_type": "code",
   "execution_count": null,
   "id": "400da5dd",
   "metadata": {},
   "outputs": [],
   "source": []
  },
  {
   "cell_type": "code",
   "execution_count": null,
   "id": "3c1cabe3",
   "metadata": {},
   "outputs": [],
   "source": []
  },
  {
   "cell_type": "code",
   "execution_count": null,
   "id": "812ad73a",
   "metadata": {},
   "outputs": [],
   "source": []
  },
  {
   "cell_type": "code",
   "execution_count": null,
   "id": "7174e5d1",
   "metadata": {},
   "outputs": [],
   "source": []
  },
  {
   "cell_type": "code",
   "execution_count": null,
   "id": "9d3e86aa",
   "metadata": {},
   "outputs": [],
   "source": []
  },
  {
   "cell_type": "code",
   "execution_count": null,
   "id": "78fc1c88",
   "metadata": {},
   "outputs": [],
   "source": []
  }
 ],
 "metadata": {
  "kernelspec": {
   "display_name": "Python 3 (ipykernel)",
   "language": "python",
   "name": "python3"
  },
  "language_info": {
   "codemirror_mode": {
    "name": "ipython",
    "version": 3
   },
   "file_extension": ".py",
   "mimetype": "text/x-python",
   "name": "python",
   "nbconvert_exporter": "python",
   "pygments_lexer": "ipython3",
   "version": "3.10.4"
  }
 },
 "nbformat": 4,
 "nbformat_minor": 5
}
