{
 "cells": [
  {
   "cell_type": "code",
   "execution_count": 2,
   "id": "7d7424ce",
   "metadata": {},
   "outputs": [],
   "source": [
    "import pandas as pd"
   ]
  },
  {
   "cell_type": "code",
   "execution_count": 3,
   "id": "05f95f4a",
   "metadata": {},
   "outputs": [
    {
     "ename": "SyntaxError",
     "evalue": "invalid syntax. Perhaps you forgot a comma? (3331721320.py, line 1)",
     "output_type": "error",
     "traceback": [
      "\u001b[1;36m  Input \u001b[1;32mIn [3]\u001b[1;36m\u001b[0m\n\u001b[1;33m    df_datos = pd.read_csv('pandas_numpy/Retractos.csv', sep=';' header=0)\u001b[0m\n\u001b[1;37m                                                             ^\u001b[0m\n\u001b[1;31mSyntaxError\u001b[0m\u001b[1;31m:\u001b[0m invalid syntax. Perhaps you forgot a comma?\n"
     ]
    }
   ],
   "source": [
    "df_datos = pd.read_csv('pandas_numpy/Retractos.csv', sep=';' header=0)"
   ]
  },
  {
   "cell_type": "code",
   "execution_count": 4,
   "id": "654f10b5",
   "metadata": {},
   "outputs": [],
   "source": [
    "df_datos = pd.read_csv('pandas_numpy/Retractos.csv', sep=';', header=0)"
   ]
  },
  {
   "cell_type": "code",
   "execution_count": 5,
   "id": "0c5fafa3",
   "metadata": {},
   "outputs": [
    {
     "data": {
      "text/html": [
       "<div>\n",
       "<style scoped>\n",
       "    .dataframe tbody tr th:only-of-type {\n",
       "        vertical-align: middle;\n",
       "    }\n",
       "\n",
       "    .dataframe tbody tr th {\n",
       "        vertical-align: top;\n",
       "    }\n",
       "\n",
       "    .dataframe thead th {\n",
       "        text-align: right;\n",
       "    }\n",
       "</style>\n",
       "<table border=\"1\" class=\"dataframe\">\n",
       "  <thead>\n",
       "    <tr style=\"text-align: right;\">\n",
       "      <th></th>\n",
       "      <th>TIPO_ID</th>\n",
       "      <th>NUMERO_ID</th>\n",
       "      <th>ENTIDAD</th>\n",
       "      <th>FECHA_ENVIO_A_MINSALUD</th>\n",
       "      <th>REQUEST_MINSALUD</th>\n",
       "      <th>RESPONSE_MINSALUD</th>\n",
       "    </tr>\n",
       "  </thead>\n",
       "  <tbody>\n",
       "    <tr>\n",
       "      <th>0</th>\n",
       "      <td>CC</td>\n",
       "      <td>1108641315</td>\n",
       "      <td>PROTECCION</td>\n",
       "      <td>19/04/2022 16:20</td>\n",
       "      <td>{fechaSolicitud\": \"\", \"numeroRadicadoSolicitud...</td>\n",
       "      <td>{codigo\": \"GN23C\", \"mensaje\": \"El número de co...</td>\n",
       "    </tr>\n",
       "    <tr>\n",
       "      <th>1</th>\n",
       "      <td>CC</td>\n",
       "      <td>1020415150</td>\n",
       "      <td>PROTECCION</td>\n",
       "      <td>19/04/2022 16:20</td>\n",
       "      <td>{fechaSolicitud\": \"\", \"numeroRadicadoSolicitud...</td>\n",
       "      <td>{codigo\": \"GN23C\", \"mensaje\": \"El número de co...</td>\n",
       "    </tr>\n",
       "    <tr>\n",
       "      <th>2</th>\n",
       "      <td>CC</td>\n",
       "      <td>1034656349</td>\n",
       "      <td>PROTECCION</td>\n",
       "      <td>19/04/2022 16:20</td>\n",
       "      <td>{fechaSolicitud\": \"\", \"numeroRadicadoSolicitud...</td>\n",
       "      <td>{codigo\": \"GN23C\", \"mensaje\": \"El número de co...</td>\n",
       "    </tr>\n",
       "    <tr>\n",
       "      <th>3</th>\n",
       "      <td>CC</td>\n",
       "      <td>1032494977</td>\n",
       "      <td>PROTECCION</td>\n",
       "      <td>19/04/2022 16:20</td>\n",
       "      <td>{fechaSolicitud\": \"\", \"numeroRadicadoSolicitud...</td>\n",
       "      <td>{codigo\": \"GN23C\", \"mensaje\": \"El número de co...</td>\n",
       "    </tr>\n",
       "    <tr>\n",
       "      <th>4</th>\n",
       "      <td>CC</td>\n",
       "      <td>1007522327</td>\n",
       "      <td>PROTECCION</td>\n",
       "      <td>19/04/2022 16:20</td>\n",
       "      <td>{fechaSolicitud\": \"\", \"numeroRadicadoSolicitud...</td>\n",
       "      <td>{codigo\": \"GN23C\", \"mensaje\": \"El número de co...</td>\n",
       "    </tr>\n",
       "    <tr>\n",
       "      <th>...</th>\n",
       "      <td>...</td>\n",
       "      <td>...</td>\n",
       "      <td>...</td>\n",
       "      <td>...</td>\n",
       "      <td>...</td>\n",
       "      <td>...</td>\n",
       "    </tr>\n",
       "    <tr>\n",
       "      <th>80</th>\n",
       "      <td>CC</td>\n",
       "      <td>1000565326</td>\n",
       "      <td>PROTECCION</td>\n",
       "      <td>19/04/2022 16:50</td>\n",
       "      <td>{fechaSolicitud\": \"\", \"numeroRadicadoSolicitud...</td>\n",
       "      <td>{codigo\": \"GN23C\", \"mensaje\": \"El número de co...</td>\n",
       "    </tr>\n",
       "    <tr>\n",
       "      <th>81</th>\n",
       "      <td>CC</td>\n",
       "      <td>1090362152</td>\n",
       "      <td>PROTECCION</td>\n",
       "      <td>19/04/2022 16:50</td>\n",
       "      <td>{fechaSolicitud\": \"\", \"numeroRadicadoSolicitud...</td>\n",
       "      <td>{codigo\": \"GN23C\", \"mensaje\": \"El número de co...</td>\n",
       "    </tr>\n",
       "    <tr>\n",
       "      <th>82</th>\n",
       "      <td>CC</td>\n",
       "      <td>1004232203</td>\n",
       "      <td>PROTECCION</td>\n",
       "      <td>19/04/2022 16:50</td>\n",
       "      <td>{fechaSolicitud\": \"\", \"numeroRadicadoSolicitud...</td>\n",
       "      <td>{codigo\": \"GN23C\", \"mensaje\": \"El número de co...</td>\n",
       "    </tr>\n",
       "    <tr>\n",
       "      <th>83</th>\n",
       "      <td>CC</td>\n",
       "      <td>1093295249</td>\n",
       "      <td>PROTECCION</td>\n",
       "      <td>19/04/2022 16:50</td>\n",
       "      <td>{fechaSolicitud\": \"\", \"numeroRadicadoSolicitud...</td>\n",
       "      <td>{codigo\": \"GN23C\", \"mensaje\": \"El número de co...</td>\n",
       "    </tr>\n",
       "    <tr>\n",
       "      <th>84</th>\n",
       "      <td>CC</td>\n",
       "      <td>1003377334</td>\n",
       "      <td>PROTECCION</td>\n",
       "      <td>19/04/2022 16:50</td>\n",
       "      <td>{fechaSolicitud\": \"\", \"numeroRadicadoSolicitud...</td>\n",
       "      <td>{codigo\": \"GN23C\", \"mensaje\": \"El número de co...</td>\n",
       "    </tr>\n",
       "  </tbody>\n",
       "</table>\n",
       "<p>85 rows × 6 columns</p>\n",
       "</div>"
      ],
      "text/plain": [
       "   TIPO_ID   NUMERO_ID     ENTIDAD FECHA_ENVIO_A_MINSALUD  \\\n",
       "0       CC  1108641315  PROTECCION       19/04/2022 16:20   \n",
       "1       CC  1020415150  PROTECCION       19/04/2022 16:20   \n",
       "2       CC  1034656349  PROTECCION       19/04/2022 16:20   \n",
       "3       CC  1032494977  PROTECCION       19/04/2022 16:20   \n",
       "4       CC  1007522327  PROTECCION       19/04/2022 16:20   \n",
       "..     ...         ...         ...                    ...   \n",
       "80      CC  1000565326  PROTECCION       19/04/2022 16:50   \n",
       "81      CC  1090362152  PROTECCION       19/04/2022 16:50   \n",
       "82      CC  1004232203  PROTECCION       19/04/2022 16:50   \n",
       "83      CC  1093295249  PROTECCION       19/04/2022 16:50   \n",
       "84      CC  1003377334  PROTECCION       19/04/2022 16:50   \n",
       "\n",
       "                                     REQUEST_MINSALUD  \\\n",
       "0   {fechaSolicitud\": \"\", \"numeroRadicadoSolicitud...   \n",
       "1   {fechaSolicitud\": \"\", \"numeroRadicadoSolicitud...   \n",
       "2   {fechaSolicitud\": \"\", \"numeroRadicadoSolicitud...   \n",
       "3   {fechaSolicitud\": \"\", \"numeroRadicadoSolicitud...   \n",
       "4   {fechaSolicitud\": \"\", \"numeroRadicadoSolicitud...   \n",
       "..                                                ...   \n",
       "80  {fechaSolicitud\": \"\", \"numeroRadicadoSolicitud...   \n",
       "81  {fechaSolicitud\": \"\", \"numeroRadicadoSolicitud...   \n",
       "82  {fechaSolicitud\": \"\", \"numeroRadicadoSolicitud...   \n",
       "83  {fechaSolicitud\": \"\", \"numeroRadicadoSolicitud...   \n",
       "84  {fechaSolicitud\": \"\", \"numeroRadicadoSolicitud...   \n",
       "\n",
       "                                    RESPONSE_MINSALUD  \n",
       "0   {codigo\": \"GN23C\", \"mensaje\": \"El número de co...  \n",
       "1   {codigo\": \"GN23C\", \"mensaje\": \"El número de co...  \n",
       "2   {codigo\": \"GN23C\", \"mensaje\": \"El número de co...  \n",
       "3   {codigo\": \"GN23C\", \"mensaje\": \"El número de co...  \n",
       "4   {codigo\": \"GN23C\", \"mensaje\": \"El número de co...  \n",
       "..                                                ...  \n",
       "80  {codigo\": \"GN23C\", \"mensaje\": \"El número de co...  \n",
       "81  {codigo\": \"GN23C\", \"mensaje\": \"El número de co...  \n",
       "82  {codigo\": \"GN23C\", \"mensaje\": \"El número de co...  \n",
       "83  {codigo\": \"GN23C\", \"mensaje\": \"El número de co...  \n",
       "84  {codigo\": \"GN23C\", \"mensaje\": \"El número de co...  \n",
       "\n",
       "[85 rows x 6 columns]"
      ]
     },
     "execution_count": 5,
     "metadata": {},
     "output_type": "execute_result"
    }
   ],
   "source": [
    "df_datos"
   ]
  },
  {
   "cell_type": "code",
   "execution_count": 6,
   "id": "5243fb1d",
   "metadata": {},
   "outputs": [],
   "source": [
    "import numpy as np"
   ]
  },
  {
   "cell_type": "code",
   "execution_count": 7,
   "id": "59039380",
   "metadata": {},
   "outputs": [],
   "source": [
    "lista = [1,2,3,4,5,6,78]"
   ]
  },
  {
   "cell_type": "code",
   "execution_count": 8,
   "id": "c056f377",
   "metadata": {},
   "outputs": [
    {
     "data": {
      "text/plain": [
       "[1, 2, 3, 4, 5, 6, 78]"
      ]
     },
     "execution_count": 8,
     "metadata": {},
     "output_type": "execute_result"
    }
   ],
   "source": [
    "lista"
   ]
  },
  {
   "cell_type": "code",
   "execution_count": 9,
   "id": "f2eb6402",
   "metadata": {},
   "outputs": [
    {
     "data": {
      "text/plain": [
       "list"
      ]
     },
     "execution_count": 9,
     "metadata": {},
     "output_type": "execute_result"
    }
   ],
   "source": [
    "type(lista)"
   ]
  },
  {
   "cell_type": "code",
   "execution_count": 10,
   "id": "cdaca99b",
   "metadata": {},
   "outputs": [],
   "source": [
    "array = np.array(lista)"
   ]
  },
  {
   "cell_type": "code",
   "execution_count": 11,
   "id": "dfdae674",
   "metadata": {},
   "outputs": [
    {
     "data": {
      "text/plain": [
       "array([ 1,  2,  3,  4,  5,  6, 78])"
      ]
     },
     "execution_count": 11,
     "metadata": {},
     "output_type": "execute_result"
    }
   ],
   "source": [
    "array"
   ]
  },
  {
   "cell_type": "code",
   "execution_count": 12,
   "id": "436b0605",
   "metadata": {},
   "outputs": [
    {
     "data": {
      "text/plain": [
       "numpy.ndarray"
      ]
     },
     "execution_count": 12,
     "metadata": {},
     "output_type": "execute_result"
    }
   ],
   "source": [
    "type(array)"
   ]
  },
  {
   "cell_type": "code",
   "execution_count": 13,
   "id": "df331d31",
   "metadata": {},
   "outputs": [],
   "source": [
    "matriz = [[1,2,3],[4,5,6],[7,8,9]]"
   ]
  },
  {
   "cell_type": "code",
   "execution_count": 14,
   "id": "93a0e301",
   "metadata": {},
   "outputs": [
    {
     "data": {
      "text/plain": [
       "array([[1, 2, 3],\n",
       "       [4, 5, 6],\n",
       "       [7, 8, 9]])"
      ]
     },
     "execution_count": 14,
     "metadata": {},
     "output_type": "execute_result"
    }
   ],
   "source": [
    "np.array(matriz)"
   ]
  },
  {
   "cell_type": "code",
   "execution_count": 15,
   "id": "3b9a4221",
   "metadata": {},
   "outputs": [
    {
     "data": {
      "text/plain": [
       "list"
      ]
     },
     "execution_count": 15,
     "metadata": {},
     "output_type": "execute_result"
    }
   ],
   "source": [
    "type(matriz)"
   ]
  },
  {
   "cell_type": "code",
   "execution_count": 16,
   "id": "1373f40d",
   "metadata": {},
   "outputs": [
    {
     "data": {
      "text/plain": [
       "array([ 1,  2,  3,  4,  5,  6, 78])"
      ]
     },
     "execution_count": 16,
     "metadata": {},
     "output_type": "execute_result"
    }
   ],
   "source": [
    "array"
   ]
  },
  {
   "cell_type": "code",
   "execution_count": 17,
   "id": "a890208e",
   "metadata": {},
   "outputs": [
    {
     "data": {
      "text/plain": [
       "1"
      ]
     },
     "execution_count": 17,
     "metadata": {},
     "output_type": "execute_result"
    }
   ],
   "source": [
    "array[0]"
   ]
  },
  {
   "cell_type": "code",
   "execution_count": 18,
   "id": "9a6097c5",
   "metadata": {},
   "outputs": [
    {
     "data": {
      "text/plain": [
       "7"
      ]
     },
     "execution_count": 18,
     "metadata": {},
     "output_type": "execute_result"
    }
   ],
   "source": [
    "array[1] + array[4]"
   ]
  },
  {
   "cell_type": "code",
   "execution_count": 19,
   "id": "5cabc897",
   "metadata": {},
   "outputs": [
    {
     "data": {
      "text/plain": [
       "[[1, 2, 3], [4, 5, 6], [7, 8, 9]]"
      ]
     },
     "execution_count": 19,
     "metadata": {},
     "output_type": "execute_result"
    }
   ],
   "source": [
    "matriz"
   ]
  },
  {
   "cell_type": "code",
   "execution_count": 20,
   "id": "86c0b37e",
   "metadata": {},
   "outputs": [
    {
     "data": {
      "text/plain": [
       "[1, 2, 3]"
      ]
     },
     "execution_count": 20,
     "metadata": {},
     "output_type": "execute_result"
    }
   ],
   "source": [
    "matriz[0]"
   ]
  },
  {
   "cell_type": "code",
   "execution_count": 21,
   "id": "95cdcee3",
   "metadata": {},
   "outputs": [
    {
     "data": {
      "text/plain": [
       "[4, 5, 6]"
      ]
     },
     "execution_count": 21,
     "metadata": {},
     "output_type": "execute_result"
    }
   ],
   "source": [
    "matriz[1]"
   ]
  },
  {
   "cell_type": "code",
   "execution_count": 22,
   "id": "e14697e0",
   "metadata": {},
   "outputs": [
    {
     "ename": "TypeError",
     "evalue": "list indices must be integers or slices, not tuple",
     "output_type": "error",
     "traceback": [
      "\u001b[1;31m---------------------------------------------------------------------------\u001b[0m",
      "\u001b[1;31mTypeError\u001b[0m                                 Traceback (most recent call last)",
      "Input \u001b[1;32mIn [22]\u001b[0m, in \u001b[0;36m<cell line: 1>\u001b[1;34m()\u001b[0m\n\u001b[1;32m----> 1\u001b[0m \u001b[43mmatriz\u001b[49m\u001b[43m[\u001b[49m\u001b[38;5;241;43m0\u001b[39;49m\u001b[43m,\u001b[49m\u001b[38;5;241;43m2\u001b[39;49m\u001b[43m]\u001b[49m\n",
      "\u001b[1;31mTypeError\u001b[0m: list indices must be integers or slices, not tuple"
     ]
    }
   ],
   "source": [
    "matriz[0,2]"
   ]
  },
  {
   "cell_type": "code",
   "execution_count": 23,
   "id": "6bdf8e9d",
   "metadata": {},
   "outputs": [
    {
     "ename": "TypeError",
     "evalue": "list indices must be integers or slices, not tuple",
     "output_type": "error",
     "traceback": [
      "\u001b[1;31m---------------------------------------------------------------------------\u001b[0m",
      "\u001b[1;31mTypeError\u001b[0m                                 Traceback (most recent call last)",
      "Input \u001b[1;32mIn [23]\u001b[0m, in \u001b[0;36m<cell line: 1>\u001b[1;34m()\u001b[0m\n\u001b[1;32m----> 1\u001b[0m \u001b[43mmatriz\u001b[49m\u001b[43m[\u001b[49m\u001b[38;5;241;43m0\u001b[39;49m\u001b[43m,\u001b[49m\u001b[38;5;241;43m1\u001b[39;49m\u001b[43m]\u001b[49m\n",
      "\u001b[1;31mTypeError\u001b[0m: list indices must be integers or slices, not tuple"
     ]
    }
   ],
   "source": [
    "matriz[0,1]"
   ]
  },
  {
   "cell_type": "code",
   "execution_count": 24,
   "id": "ecb55ad2",
   "metadata": {},
   "outputs": [
    {
     "ename": "TypeError",
     "evalue": "list indices must be integers or slices, not tuple",
     "output_type": "error",
     "traceback": [
      "\u001b[1;31m---------------------------------------------------------------------------\u001b[0m",
      "\u001b[1;31mTypeError\u001b[0m                                 Traceback (most recent call last)",
      "Input \u001b[1;32mIn [24]\u001b[0m, in \u001b[0;36m<cell line: 1>\u001b[1;34m()\u001b[0m\n\u001b[1;32m----> 1\u001b[0m \u001b[43mmatriz\u001b[49m\u001b[43m[\u001b[49m\u001b[38;5;241;43m1\u001b[39;49m\u001b[43m,\u001b[49m\u001b[38;5;241;43m1\u001b[39;49m\u001b[43m]\u001b[49m\n",
      "\u001b[1;31mTypeError\u001b[0m: list indices must be integers or slices, not tuple"
     ]
    }
   ],
   "source": [
    "matriz[1,1]"
   ]
  },
  {
   "cell_type": "code",
   "execution_count": 25,
   "id": "02094f08",
   "metadata": {},
   "outputs": [
    {
     "data": {
      "text/plain": [
       "array([ 1,  2,  3,  4,  5,  6, 78])"
      ]
     },
     "execution_count": 25,
     "metadata": {},
     "output_type": "execute_result"
    }
   ],
   "source": [
    "array"
   ]
  },
  {
   "cell_type": "code",
   "execution_count": 26,
   "id": "7b05a69f",
   "metadata": {},
   "outputs": [
    {
     "data": {
      "text/plain": [
       "array([1, 2, 3])"
      ]
     },
     "execution_count": 26,
     "metadata": {},
     "output_type": "execute_result"
    }
   ],
   "source": [
    "array[0:3]"
   ]
  },
  {
   "cell_type": "code",
   "execution_count": 27,
   "id": "e92fbe61",
   "metadata": {},
   "outputs": [
    {
     "data": {
      "text/plain": [
       "array([1, 2, 3, 4, 5])"
      ]
     },
     "execution_count": 27,
     "metadata": {},
     "output_type": "execute_result"
    }
   ],
   "source": [
    "array[0:5]"
   ]
  },
  {
   "cell_type": "code",
   "execution_count": 28,
   "id": "6dca9ec5",
   "metadata": {},
   "outputs": [
    {
     "data": {
      "text/plain": [
       "array([78,  6,  5,  4,  3,  2,  1])"
      ]
     },
     "execution_count": 28,
     "metadata": {},
     "output_type": "execute_result"
    }
   ],
   "source": [
    "array[::-1]"
   ]
  },
  {
   "cell_type": "code",
   "execution_count": 29,
   "id": "8d201eaf",
   "metadata": {},
   "outputs": [
    {
     "data": {
      "text/plain": [
       "array([ 1,  4, 78])"
      ]
     },
     "execution_count": 29,
     "metadata": {},
     "output_type": "execute_result"
    }
   ],
   "source": [
    "array[::3]"
   ]
  },
  {
   "cell_type": "code",
   "execution_count": 30,
   "id": "75837c95",
   "metadata": {},
   "outputs": [
    {
     "data": {
      "text/plain": [
       "[[4, 5, 6], [7, 8, 9]]"
      ]
     },
     "execution_count": 30,
     "metadata": {},
     "output_type": "execute_result"
    }
   ],
   "source": [
    "matriz[1:]"
   ]
  },
  {
   "cell_type": "code",
   "execution_count": 31,
   "id": "145d4823",
   "metadata": {},
   "outputs": [
    {
     "data": {
      "text/plain": [
       "[[7, 8, 9], [4, 5, 6], [1, 2, 3]]"
      ]
     },
     "execution_count": 31,
     "metadata": {},
     "output_type": "execute_result"
    }
   ],
   "source": [
    "matriz[::-1]"
   ]
  },
  {
   "cell_type": "code",
   "execution_count": 32,
   "id": "3c6d8931",
   "metadata": {},
   "outputs": [
    {
     "ename": "TypeError",
     "evalue": "list indices must be integers or slices, not tuple",
     "output_type": "error",
     "traceback": [
      "\u001b[1;31m---------------------------------------------------------------------------\u001b[0m",
      "\u001b[1;31mTypeError\u001b[0m                                 Traceback (most recent call last)",
      "Input \u001b[1;32mIn [32]\u001b[0m, in \u001b[0;36m<cell line: 1>\u001b[1;34m()\u001b[0m\n\u001b[1;32m----> 1\u001b[0m \u001b[43mmatriz\u001b[49m\u001b[43m[\u001b[49m\u001b[38;5;241;43m1\u001b[39;49m\u001b[43m:\u001b[49m\u001b[43m,\u001b[49m\u001b[38;5;241;43m0\u001b[39;49m\u001b[43m:\u001b[49m\u001b[38;5;241;43m2\u001b[39;49m\u001b[43m]\u001b[49m\n",
      "\u001b[1;31mTypeError\u001b[0m: list indices must be integers or slices, not tuple"
     ]
    }
   ],
   "source": [
    "matriz[1:,0:2]"
   ]
  },
  {
   "cell_type": "code",
   "execution_count": 33,
   "id": "fc8a610f",
   "metadata": {},
   "outputs": [
    {
     "data": {
      "text/plain": [
       "list"
      ]
     },
     "execution_count": 33,
     "metadata": {},
     "output_type": "execute_result"
    }
   ],
   "source": [
    "type(matriz)"
   ]
  }
 ],
 "metadata": {
  "kernelspec": {
   "display_name": "Python 3 (ipykernel)",
   "language": "python",
   "name": "python3"
  },
  "language_info": {
   "codemirror_mode": {
    "name": "ipython",
    "version": 3
   },
   "file_extension": ".py",
   "mimetype": "text/x-python",
   "name": "python",
   "nbconvert_exporter": "python",
   "pygments_lexer": "ipython3",
   "version": "3.10.4"
  }
 },
 "nbformat": 4,
 "nbformat_minor": 5
}
